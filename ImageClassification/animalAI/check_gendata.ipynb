{
 "cells": [
  {
   "cell_type": "code",
   "execution_count": 1,
   "metadata": {},
   "outputs": [],
   "source": [
    "from PIL import Image\n",
    "import os, glob\n",
    "import numpy as np\n",
    "from sklearn.model_selection import cross_val_score\n",
    "\n",
    "classes = ['monkey', 'boar', 'crow']\n",
    "num_classes = len(classes)\n",
    "image_size = 50\n",
    "\n",
    "# Read Images\n",
    "\n",
    "X = []\n",
    "Y = []\n",
    "for index, class_label in enumerate(classes):\n",
    "\tphotos_dir = './' + class_label\n",
    "\tfiles = glob.glob(photos_dir + '/*.jpg')\n",
    "\tfor i, file in enumerate(files):\n",
    "\t\tif i >= 160: break\n",
    "\t\timage = Image.open(file)\n",
    "\t\timage = image.convert('RGB')\n",
    "\t\timage = image.resize((image_size, image_size))\n",
    "\t\tdata = np.asarray(image)\n",
    "\t\tX.append(data)\n",
    "\t\tY.append(index)\n",
    "\n",
    "# usable for tensorflow\n",
    "X = np.array(X)\n",
    "Y = np.array(Y)"
   ]
  },
  {
   "cell_type": "code",
   "execution_count": 2,
   "metadata": {},
   "outputs": [
    {
     "data": {
      "text/plain": [
       "array([[[ 44,  92,  34],\n",
       "        [ 35,  81,   8],\n",
       "        [ 40,  80,  17],\n",
       "        ...,\n",
       "        [ 27,  50,  22],\n",
       "        [ 23,  46,  26],\n",
       "        [ 21,  42,  35]],\n",
       "\n",
       "       [[ 47,  90,  36],\n",
       "        [ 44,  85,  25],\n",
       "        [ 49,  87,  38],\n",
       "        ...,\n",
       "        [ 27,  50,  34],\n",
       "        [ 25,  46,  39],\n",
       "        [ 22,  43,  46]],\n",
       "\n",
       "       [[ 54,  93,  48],\n",
       "        [ 49,  89,  37],\n",
       "        [ 70, 108,  61],\n",
       "        ...,\n",
       "        [ 24,  47,  41],\n",
       "        [ 25,  44,  48],\n",
       "        [ 22,  45,  53]],\n",
       "\n",
       "       ...,\n",
       "\n",
       "       [[161, 156,  65],\n",
       "        [151, 143,  62],\n",
       "        [143, 133,  62],\n",
       "        ...,\n",
       "        [157, 149, 160],\n",
       "        [160, 150, 158],\n",
       "        [170, 155, 158]],\n",
       "\n",
       "       [[166, 166,  70],\n",
       "        [159, 155,  68],\n",
       "        [153, 145,  72],\n",
       "        ...,\n",
       "        [160, 154, 164],\n",
       "        [138, 131, 138],\n",
       "        [145, 135, 136]],\n",
       "\n",
       "       [[175, 177,  80],\n",
       "        [172, 172,  82],\n",
       "        [169, 168,  86],\n",
       "        ...,\n",
       "        [150, 144, 154],\n",
       "        [154, 144, 152],\n",
       "        [120, 105, 108]]], dtype=uint8)"
      ]
     },
     "execution_count": 2,
     "metadata": {},
     "output_type": "execute_result"
    }
   ],
   "source": [
    "X[0]"
   ]
  },
  {
   "cell_type": "code",
   "execution_count": 3,
   "metadata": {},
   "outputs": [
    {
     "data": {
      "text/plain": [
       "480"
      ]
     },
     "execution_count": 3,
     "metadata": {},
     "output_type": "execute_result"
    }
   ],
   "source": [
    "len(X)"
   ]
  },
  {
   "cell_type": "code",
   "execution_count": 4,
   "metadata": {},
   "outputs": [
    {
     "data": {
      "text/plain": [
       "(480, 50, 50, 3)"
      ]
     },
     "execution_count": 4,
     "metadata": {},
     "output_type": "execute_result"
    }
   ],
   "source": [
    "X.shape"
   ]
  },
  {
   "cell_type": "code",
   "execution_count": 5,
   "metadata": {},
   "outputs": [],
   "source": [
    "from PIL import Image\n",
    "import os, glob\n",
    "import numpy as np\n",
    "from sklearn import model_selection\n",
    "\n",
    "classes = ['monkey', 'boar', 'crow']\n",
    "num_classes = len(classes)\n",
    "image_size = 50\n",
    "\n",
    "# Read Images\n",
    "\n",
    "X = []\n",
    "Y = []\n",
    "for index, class_label in enumerate(classes):\n",
    "\tphotos_dir = './' + class_label\n",
    "\tfiles = glob.glob(photos_dir + '/*.jpg')\n",
    "\tfor i, file in enumerate(files):\n",
    "\t\tif i >= 160: break\n",
    "\t\timage = Image.open(file)\n",
    "\t\timage = image.convert('RGB')\n",
    "\t\timage = image.resize((image_size, image_size))\n",
    "\t\tdata = np.asarray(image)\n",
    "\t\tX.append(data)\n",
    "\t\tY.append(index)\n",
    "\n",
    "# usable for tensorflow\n",
    "X = np.array(X)\n",
    "Y = np.array(Y)\n",
    "\n",
    "X_train, X_test, Y_train, Y_test = model_selection.train_test_split(X, Y)\n",
    "\n",
    "xy = (X_train, X_test, Y_train, Y_test)\n",
    "np.save('./animal.npy', xy)\n"
   ]
  },
  {
   "cell_type": "code",
   "execution_count": 6,
   "metadata": {},
   "outputs": [
    {
     "data": {
      "text/plain": [
       "360"
      ]
     },
     "execution_count": 6,
     "metadata": {},
     "output_type": "execute_result"
    }
   ],
   "source": [
    "len(X_train)"
   ]
  },
  {
   "cell_type": "code",
   "execution_count": 7,
   "metadata": {},
   "outputs": [
    {
     "data": {
      "text/plain": [
       "120"
      ]
     },
     "execution_count": 7,
     "metadata": {},
     "output_type": "execute_result"
    }
   ],
   "source": [
    "len(X_test)"
   ]
  },
  {
   "cell_type": "code",
   "execution_count": 8,
   "metadata": {},
   "outputs": [
    {
     "data": {
      "text/plain": [
       "360"
      ]
     },
     "execution_count": 8,
     "metadata": {},
     "output_type": "execute_result"
    }
   ],
   "source": [
    "len(Y_train)"
   ]
  },
  {
   "cell_type": "code",
   "execution_count": 9,
   "metadata": {},
   "outputs": [
    {
     "data": {
      "text/plain": [
       "120"
      ]
     },
     "execution_count": 9,
     "metadata": {},
     "output_type": "execute_result"
    }
   ],
   "source": [
    "len(Y_test)"
   ]
  },
  {
   "cell_type": "code",
   "execution_count": 10,
   "metadata": {},
   "outputs": [
    {
     "data": {
      "text/plain": [
       "array([[[ 43,  37,  37],\n",
       "        [ 35,  29,  29],\n",
       "        [ 33,  32,  30],\n",
       "        ...,\n",
       "        [ 48,  48,  56],\n",
       "        [ 33,  32,  38],\n",
       "        [ 44,  43,  49]],\n",
       "\n",
       "       [[ 28,  26,  27],\n",
       "        [ 42,  38,  39],\n",
       "        [ 47,  45,  46],\n",
       "        ...,\n",
       "        [ 53,  53,  65],\n",
       "        [ 46,  44,  55],\n",
       "        [ 41,  40,  46]],\n",
       "\n",
       "       [[ 30,  32,  31],\n",
       "        [ 35,  33,  34],\n",
       "        [ 29,  29,  29],\n",
       "        ...,\n",
       "        [ 47,  47,  55],\n",
       "        [ 37,  37,  39],\n",
       "        [ 35,  35,  37]],\n",
       "\n",
       "       ...,\n",
       "\n",
       "       [[177, 167, 114],\n",
       "        [182, 172, 119],\n",
       "        [185, 175, 122],\n",
       "        ...,\n",
       "        [207, 195, 183],\n",
       "        [210, 196, 193],\n",
       "        [209, 197, 181]],\n",
       "\n",
       "       [[139, 124,  83],\n",
       "        [143, 131,  89],\n",
       "        [143, 133,  82],\n",
       "        ...,\n",
       "        [161, 154, 100],\n",
       "        [162, 157, 115],\n",
       "        [148, 144, 106]],\n",
       "\n",
       "       [[138, 126,  76],\n",
       "        [132, 119,  77],\n",
       "        [142, 131, 109],\n",
       "        ...,\n",
       "        [224, 221, 232],\n",
       "        [205, 201, 200],\n",
       "        [179, 171, 134]]], dtype=uint8)"
      ]
     },
     "execution_count": 10,
     "metadata": {},
     "output_type": "execute_result"
    }
   ],
   "source": [
    "X_train[100]"
   ]
  },
  {
   "cell_type": "code",
   "execution_count": null,
   "metadata": {},
   "outputs": [],
   "source": []
  }
 ],
 "metadata": {
  "kernelspec": {
   "display_name": "Python 3",
   "language": "python",
   "name": "python3"
  },
  "language_info": {
   "codemirror_mode": {
    "name": "ipython",
    "version": 3
   },
   "file_extension": ".py",
   "mimetype": "text/x-python",
   "name": "python",
   "nbconvert_exporter": "python",
   "pygments_lexer": "ipython3",
   "version": "3.7.4"
  }
 },
 "nbformat": 4,
 "nbformat_minor": 4
}

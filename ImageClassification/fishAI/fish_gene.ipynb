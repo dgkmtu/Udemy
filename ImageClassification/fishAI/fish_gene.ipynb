{
 "cells": [
  {
   "cell_type": "code",
   "execution_count": 1,
   "metadata": {},
   "outputs": [],
   "source": [
    "from PIL import Image\n",
    "import os, glob\n",
    "import numpy as np\n",
    "from sklearn import model_selection\n",
    "from tqdm import tqdm"
   ]
  },
  {
   "cell_type": "code",
   "execution_count": 2,
   "metadata": {},
   "outputs": [],
   "source": [
    "# Initiallization\n",
    "classes = ['ソラスズメダイ', 'キンギョハナダイ', 'カゴカキダイ', 'ガラスハゼ', 'トラウツボ', 'ミツボシクロスズメダイ', 'マツカサウオ',\n",
    "           'カミソリウオ', 'ミノカサゴ', 'イシガキフグ']\n",
    "num_classes = len(classes)\n",
    "image_size = 55\n",
    "num_testdata = 80\n",
    "\n",
    "X_train = []\n",
    "X_test  = []\n",
    "Y_train = []\n",
    "Y_test  = []"
   ]
  },
  {
   "cell_type": "code",
   "execution_count": 3,
   "metadata": {},
   "outputs": [
    {
     "name": "stderr",
     "output_type": "stream",
     "text": [
      "10it [00:15,  1.53s/it]\n"
     ]
    }
   ],
   "source": [
    "# Read Images\n",
    "\n",
    "for index, label in tqdm(enumerate(classes)):\n",
    "    photos_dir1 = './Images/downloads_flickr/' + label\n",
    "    photos_dir2 = './Images/downloads_yahoo/'  + label\n",
    "    files1 = glob.glob(photos_dir1 + '/*.jpg')\n",
    "    files2 = glob.glob(photos_dir2 + '/*.jpg')\n",
    "    files = files1 + files2\n",
    "    \n",
    "    for i, file in enumerate(files):\n",
    "        if i >= 270: break\n",
    "        image = Image.open(file)\n",
    "        image = image.convert('RGB')\n",
    "        image = image.resize((image_size, image_size))\n",
    "        data = np.asarray(image)  \n",
    "\n",
    "        if i < num_testdata:\n",
    "            X_test.append(data)\n",
    "            Y_test.append(index)\n",
    "        else:\n",
    "            for angle in range(-30, 30, 5):\n",
    "                # 回転\n",
    "                img_r = image.rotate(angle)\n",
    "                data = np.asarray(img_r)\n",
    "                X_train.append(data)\n",
    "                Y_train.append(index)\n",
    "\n",
    "                # 反転\n",
    "                img_trans = img_r.transpose(Image.FLIP_LEFT_RIGHT)\n",
    "                data = np.asarray(img_trans)\n",
    "                X_train.append(data)\n",
    "                Y_train.append(index)\n"
   ]
  },
  {
   "cell_type": "code",
   "execution_count": 4,
   "metadata": {},
   "outputs": [],
   "source": [
    "X_train = np.array(X_train)\n",
    "X_test  = np.array(X_test)\n",
    "Y_train = np.array(Y_train)\n",
    "Y_test  = np.array(Y_test)"
   ]
  },
  {
   "cell_type": "code",
   "execution_count": 5,
   "metadata": {},
   "outputs": [],
   "source": [
    "xy = (X_train, X_test, Y_train, Y_test)\n",
    "np.save('./fish_aug5.npy', xy)"
   ]
  },
  {
   "cell_type": "code",
   "execution_count": null,
   "metadata": {},
   "outputs": [],
   "source": []
  }
 ],
 "metadata": {
  "kernelspec": {
   "display_name": "Python 3",
   "language": "python",
   "name": "python3"
  },
  "language_info": {
   "codemirror_mode": {
    "name": "ipython",
    "version": 3
   },
   "file_extension": ".py",
   "mimetype": "text/x-python",
   "name": "python",
   "nbconvert_exporter": "python",
   "pygments_lexer": "ipython3",
   "version": "3.7.4"
  }
 },
 "nbformat": 4,
 "nbformat_minor": 4
}

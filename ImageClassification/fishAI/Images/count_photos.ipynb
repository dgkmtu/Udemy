{
 "cells": [
  {
   "cell_type": "code",
   "execution_count": 4,
   "metadata": {},
   "outputs": [],
   "source": [
    "import os    \n",
    "import glob"
   ]
  },
  {
   "cell_type": "code",
   "execution_count": 5,
   "metadata": {},
   "outputs": [],
   "source": [
    "classes = ['ソラスズメダイ', 'キンギョハナダイ', 'カゴカキダイ', 'ガラスハゼ', 'トラウツボ', 'ミツボシクロスズメダイ', 'マツカサウオ',\n",
    "           'カミソリウオ', 'ミノカサゴ','イシガキフグ']\n",
    "\n",
    "path_flickr = os.getcwd() + '/downloads_flickr/'  \n",
    "path_yahoo = os.getcwd() + '/downloads_yahoo/'\n",
    "\n",
    "files_flickr = os.listdir(path_flickr)\n",
    "files_yahoo  = os.listdir(path_yahoo)\n"
   ]
  },
  {
   "cell_type": "code",
   "execution_count": 6,
   "metadata": {},
   "outputs": [
    {
     "name": "stdout",
     "output_type": "stream",
     "text": [
      "ソラスズメダイ：265枚\n",
      "キンギョハナダイ：337枚\n",
      "カゴカキダイ：343枚\n",
      "ガラスハゼ：502枚\n",
      "トラウツボ：497枚\n",
      "ミツボシクロスズメダイ：354枚\n",
      "マツカサウオ：411枚\n",
      "カミソリウオ：471枚\n",
      "ミノカサゴ：450枚\n",
      "イシガキフグ：319枚\n"
     ]
    }
   ],
   "source": [
    "\n",
    "for label in classes:\n",
    "    total_count = 0\n",
    "    \n",
    "    dir_flickr = path_flickr + label\n",
    "    count_flickr = len(glob.glob(dir_flickr + '/*.jpg'))\n",
    "    dir_yahoo  = path_yahoo + label\n",
    "    count_yahoo  = len(glob.glob(dir_yahoo + '/*.jpg'))\n",
    "    \n",
    "    total_count = count_flickr + count_yahoo\n",
    "    print(label + '：' + str(total_count) + '枚')"
   ]
  },
  {
   "cell_type": "code",
   "execution_count": null,
   "metadata": {},
   "outputs": [],
   "source": []
  }
 ],
 "metadata": {
  "kernelspec": {
   "display_name": "Python 3",
   "language": "python",
   "name": "python3"
  },
  "language_info": {
   "codemirror_mode": {
    "name": "ipython",
    "version": 3
   },
   "file_extension": ".py",
   "mimetype": "text/x-python",
   "name": "python",
   "nbconvert_exporter": "python",
   "pygments_lexer": "ipython3",
   "version": "3.7.4"
  }
 },
 "nbformat": 4,
 "nbformat_minor": 4
}

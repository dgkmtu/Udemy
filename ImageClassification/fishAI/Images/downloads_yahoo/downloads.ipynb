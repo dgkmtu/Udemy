{
 "cells": [
  {
   "cell_type": "code",
   "execution_count": 1,
   "metadata": {},
   "outputs": [],
   "source": [
    "import requests,os,time\n",
    "from bs4 import BeautifulSoup\n",
    "from tqdm import tqdm"
   ]
  },
  {
   "cell_type": "code",
   "execution_count": 2,
   "metadata": {},
   "outputs": [
    {
     "name": "stdout",
     "output_type": "stream",
     "text": [
      "[['イシガキフグ', 'https://search.yahoo.co.jp/image/search?p=%E3%82%A4%E3%82%B7%E3%82%AC%E3%82%AD%E3%83%95%E3%82%B0&oq=&ei=UTF-8&b=', '「イシガキフグ」の画像検索結果'], ['カミソリウオ', 'https://search.yahoo.co.jp/image/search?p=%E3%82%AB%E3%83%9F%E3%82%BD%E3%83%AA%E3%82%A6%E3%82%AA&oq=&ei=UTF-8&b=', '「カミソリウオ」の画像検索結果'], ['ミノカサゴ', 'https://search.yahoo.co.jp/image/search?p=%E3%83%9F%E3%83%8E%E3%82%AB%E3%82%B5%E3%82%B4&oq=&ei=UTF-8&b=', '「ミノカサゴ」の画像検索結果'], ['']]\n"
     ]
    }
   ],
   "source": [
    "# fish_list.csvを開き、スクレイピング対象を取得する → search_listに格納\n",
    "search_list = []\n",
    "\n",
    "with open('fish_list.csv', mode='r', encoding='utf-8') as f:\n",
    "    for row in f:\n",
    "        columns = row.rstrip().split(',')\n",
    "        search_list.append(columns)\n",
    "\n",
    "print(search_list)"
   ]
  },
  {
   "cell_type": "code",
   "execution_count": 3,
   "metadata": {},
   "outputs": [],
   "source": [
    "# Yahoo画像検索URLの取得関数\n",
    "def get_page_urls(page_str):\n",
    "    page_urls = []\n",
    "\n",
    "    for n_page in range(1, 600, 20):\n",
    "        page = page_str + '{}'.format(n_page)\n",
    "        page_urls.append(page)\n",
    "\n",
    "    return page_urls\n",
    "\n",
    "#page_url = search_list[1][2]\n",
    "#len(get_page_urls(page_url))"
   ]
  },
  {
   "cell_type": "code",
   "execution_count": 4,
   "metadata": {},
   "outputs": [],
   "source": [
    "# 画像URL取得関数\n",
    "def get_image(page_url, page_alt):\n",
    "    r = requests.get(page_url)\n",
    "    soup = BeautifulSoup(r.text, features='html.parser')\n",
    "    \n",
    "    img_tags = soup.find_all('img', attrs={'alt':page_alt})\n",
    "\n",
    "    img_url = []\n",
    "\n",
    "    for img_tag in img_tags:\n",
    "        url = img_tag.get('src')\n",
    "        img_url.append(url)\n",
    "        \n",
    "    return img_url"
   ]
  },
  {
   "cell_type": "code",
   "execution_count": 5,
   "metadata": {},
   "outputs": [],
   "source": [
    "def download_image(url, file_path):\n",
    "    r = requests.get(url, stream=True)\n",
    "    \n",
    "    if r.status_code == 200:\n",
    "        with open(file_path, 'wb') as f:\n",
    "            f.write(r.content)"
   ]
  },
  {
   "cell_type": "code",
   "execution_count": 6,
   "metadata": {},
   "outputs": [
    {
     "name": "stderr",
     "output_type": "stream",
     "text": [
      "100%|██████████| 30/30 [00:53<00:00,  1.80s/it]\n",
      "600it [12:15,  1.23s/it]\n",
      "100%|██████████| 30/30 [00:51<00:00,  1.73s/it]\n",
      "600it [12:32,  1.25s/it]\n",
      "100%|██████████| 30/30 [00:52<00:00,  1.74s/it]\n",
      "600it [11:48,  1.18s/it]\n"
     ]
    },
    {
     "ename": "ValueError",
     "evalue": "not enough values to unpack (expected 3, got 1)",
     "output_type": "error",
     "traceback": [
      "\u001b[0;31m---------------------------------------------------------------------------\u001b[0m",
      "\u001b[0;31mValueError\u001b[0m                                Traceback (most recent call last)",
      "\u001b[0;32m<ipython-input-6-1bb0e1ad7e1a>\u001b[0m in \u001b[0;36m<module>\u001b[0;34m\u001b[0m\n\u001b[0;32m----> 1\u001b[0;31m \u001b[0;32mfor\u001b[0m \u001b[0mfish_name\u001b[0m\u001b[0;34m,\u001b[0m \u001b[0mpage_str\u001b[0m\u001b[0;34m,\u001b[0m \u001b[0mpage_alt\u001b[0m \u001b[0;32min\u001b[0m \u001b[0msearch_list\u001b[0m\u001b[0;34m:\u001b[0m\u001b[0;34m\u001b[0m\u001b[0;34m\u001b[0m\u001b[0m\n\u001b[0m\u001b[1;32m      2\u001b[0m     \u001b[0mpage_urls\u001b[0m \u001b[0;34m=\u001b[0m \u001b[0mget_page_urls\u001b[0m\u001b[0;34m(\u001b[0m\u001b[0mpage_str\u001b[0m\u001b[0;34m)\u001b[0m\u001b[0;34m\u001b[0m\u001b[0;34m\u001b[0m\u001b[0m\n\u001b[1;32m      3\u001b[0m \u001b[0;34m\u001b[0m\u001b[0m\n\u001b[1;32m      4\u001b[0m     \u001b[0;31m# 画像URLの取得\u001b[0m\u001b[0;34m\u001b[0m\u001b[0;34m\u001b[0m\u001b[0;34m\u001b[0m\u001b[0m\n\u001b[1;32m      5\u001b[0m     \u001b[0mimg_urls\u001b[0m \u001b[0;34m=\u001b[0m \u001b[0;34m[\u001b[0m\u001b[0;34m]\u001b[0m\u001b[0;34m\u001b[0m\u001b[0;34m\u001b[0m\u001b[0m\n",
      "\u001b[0;31mValueError\u001b[0m: not enough values to unpack (expected 3, got 1)"
     ]
    }
   ],
   "source": [
    "for fish_name, page_str, page_alt in search_list:\n",
    "    page_urls = get_page_urls(page_str)\n",
    "    \n",
    "    # 画像URLの取得\n",
    "    img_urls = []\n",
    "    for page_url in tqdm(page_urls): \n",
    "        img_url = get_image(page_url, page_alt)\n",
    "        img_urls.extend(img_url)\n",
    "        time.sleep(1)\n",
    "\n",
    "    os.mkdir(fish_name)\n",
    "    \n",
    "    # 画像のダウンロード\n",
    "    for i, img_url in tqdm(enumerate(img_urls)):\n",
    "        path = fish_name + '/' + str(i).zfill(4) + '.jpg'\n",
    "        download_image(url=img_urls[i], file_path=path)\n",
    "        time.sleep(1)"
   ]
  },
  {
   "cell_type": "code",
   "execution_count": null,
   "metadata": {},
   "outputs": [],
   "source": []
  },
  {
   "cell_type": "code",
   "execution_count": null,
   "metadata": {},
   "outputs": [],
   "source": []
  },
  {
   "cell_type": "code",
   "execution_count": null,
   "metadata": {},
   "outputs": [],
   "source": []
  }
 ],
 "metadata": {
  "kernelspec": {
   "display_name": "Python 3",
   "language": "python",
   "name": "python3"
  },
  "language_info": {
   "codemirror_mode": {
    "name": "ipython",
    "version": 3
   },
   "file_extension": ".py",
   "mimetype": "text/x-python",
   "name": "python",
   "nbconvert_exporter": "python",
   "pygments_lexer": "ipython3",
   "version": "3.7.4"
  }
 },
 "nbformat": 4,
 "nbformat_minor": 4
}
